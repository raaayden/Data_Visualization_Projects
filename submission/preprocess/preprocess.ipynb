{
 "nbformat": 4,
 "nbformat_minor": 2,
 "metadata": {
  "language_info": {
   "name": "python",
   "codemirror_mode": {
    "name": "ipython",
    "version": 3
   },
   "version": "3.6.9-final"
  },
  "orig_nbformat": 2,
  "file_extension": ".py",
  "mimetype": "text/x-python",
  "name": "python",
  "npconvert_exporter": "python",
  "pygments_lexer": "ipython3",
  "version": 3,
  "kernelspec": {
   "name": "python36964bitfypcondac6b92174f773433fa40c84bee11ed9df",
   "display_name": "Python 3.6.9 64-bit ('fyp': conda)"
  }
 },
 "cells": [
  {
   "cell_type": "code",
   "execution_count": 1,
   "metadata": {},
   "outputs": [],
   "source": [
    "#Import library\n",
    "\n",
    "import pandas as pd\n"
   ]
  },
  {
   "cell_type": "code",
   "execution_count": 16,
   "metadata": {},
   "outputs": [],
   "source": [
    "#Read all Datasets\n",
    "crime_cases = pd.read_csv('../data/Crime_cases_by_state.csv')\n",
    "drug_addicts = pd.read_csv('../data/Drug_addicts_by_state.csv')\n",
    "GDP = pd.read_csv('../data/GDP_per_capita_by_state.csv')\n",
    "unemployment = pd.read_csv('../data/Unemployment_Rate_by_state.csv')"
   ]
  },
  {
   "cell_type": "code",
   "execution_count": 17,
   "metadata": {},
   "outputs": [
    {
     "data": {
      "text/html": "<div>\n<style scoped>\n    .dataframe tbody tr th:only-of-type {\n        vertical-align: middle;\n    }\n\n    .dataframe tbody tr th {\n        vertical-align: top;\n    }\n\n    .dataframe thead th {\n        text-align: right;\n    }\n</style>\n<table border=\"1\" class=\"dataframe\">\n  <thead>\n    <tr style=\"text-align: right;\">\n      <th></th>\n      <th>NEGERI</th>\n      <th>TAHUN</th>\n      <th>BUNUH</th>\n      <th>ROGOL</th>\n      <th>SAMUN BERKAWAN BERS/API</th>\n      <th>SAMUN BERKAWAN TANPA BERS/API</th>\n      <th>SAMUN BERSENJATAPI</th>\n      <th>SAMUN TANPA S/API</th>\n      <th>MENCEDERAKAN</th>\n      <th>CURI</th>\n      <th>CURI MOTOKAR</th>\n      <th>CURI MOTOSIKAL</th>\n      <th>CURI VAN/LORI/J'BERAT</th>\n      <th>CURI RAGUT</th>\n      <th>PECAH RUMAH DAN CURI</th>\n    </tr>\n  </thead>\n  <tbody>\n    <tr>\n      <td>0</td>\n      <td>JOHOR</td>\n      <td>2009</td>\n      <td>74</td>\n      <td>656</td>\n      <td>87</td>\n      <td>5028</td>\n      <td>11</td>\n      <td>1374</td>\n      <td>1144</td>\n      <td>4211</td>\n      <td>1755</td>\n      <td>8825</td>\n      <td>612</td>\n      <td>99</td>\n      <td>3391</td>\n    </tr>\n    <tr>\n      <td>1</td>\n      <td>KEDAH</td>\n      <td>2009</td>\n      <td>33</td>\n      <td>378</td>\n      <td>46</td>\n      <td>534</td>\n      <td>8</td>\n      <td>321</td>\n      <td>539</td>\n      <td>2422</td>\n      <td>526</td>\n      <td>4958</td>\n      <td>122</td>\n      <td>540</td>\n      <td>2502</td>\n    </tr>\n    <tr>\n      <td>2</td>\n      <td>KELANTAN</td>\n      <td>2009</td>\n      <td>8</td>\n      <td>314</td>\n      <td>16</td>\n      <td>122</td>\n      <td>9</td>\n      <td>52</td>\n      <td>421</td>\n      <td>868</td>\n      <td>775</td>\n      <td>2841</td>\n      <td>69</td>\n      <td>391</td>\n      <td>1515</td>\n    </tr>\n    <tr>\n      <td>3</td>\n      <td>KUALA LUMPUR</td>\n      <td>2009</td>\n      <td>64</td>\n      <td>153</td>\n      <td>127</td>\n      <td>6156</td>\n      <td>35</td>\n      <td>942</td>\n      <td>772</td>\n      <td>7510</td>\n      <td>3138</td>\n      <td>6286</td>\n      <td>726</td>\n      <td>3341</td>\n      <td>4531</td>\n    </tr>\n    <tr>\n      <td>4</td>\n      <td>MELAKA</td>\n      <td>2009</td>\n      <td>12</td>\n      <td>105</td>\n      <td>1</td>\n      <td>240</td>\n      <td>1</td>\n      <td>89</td>\n      <td>294</td>\n      <td>1523</td>\n      <td>226</td>\n      <td>1520</td>\n      <td>59</td>\n      <td>232</td>\n      <td>1321</td>\n    </tr>\n    <tr>\n      <td>5</td>\n      <td>NEGERI SEMBILAN</td>\n      <td>2009</td>\n      <td>14</td>\n      <td>209</td>\n      <td>62</td>\n      <td>909</td>\n      <td>19</td>\n      <td>194</td>\n      <td>351</td>\n      <td>1362</td>\n      <td>266</td>\n      <td>1871</td>\n      <td>99</td>\n      <td>273</td>\n      <td>1918</td>\n    </tr>\n    <tr>\n      <td>6</td>\n      <td>PAHANG</td>\n      <td>2009</td>\n      <td>24</td>\n      <td>226</td>\n      <td>26</td>\n      <td>246</td>\n      <td>3</td>\n      <td>61</td>\n      <td>334</td>\n      <td>1707</td>\n      <td>234</td>\n      <td>2167</td>\n      <td>143</td>\n      <td>174</td>\n      <td>1376</td>\n    </tr>\n    <tr>\n      <td>7</td>\n      <td>PERAK</td>\n      <td>2009</td>\n      <td>54</td>\n      <td>254</td>\n      <td>35</td>\n      <td>1257</td>\n      <td>6</td>\n      <td>218</td>\n      <td>654</td>\n      <td>2145</td>\n      <td>689</td>\n      <td>4628</td>\n      <td>306</td>\n      <td>479</td>\n      <td>2043</td>\n    </tr>\n    <tr>\n      <td>8</td>\n      <td>PERLIS</td>\n      <td>2009</td>\n      <td>2</td>\n      <td>44</td>\n      <td>13</td>\n      <td>8</td>\n      <td>3</td>\n      <td>5</td>\n      <td>78</td>\n      <td>129</td>\n      <td>28</td>\n      <td>398</td>\n      <td>8</td>\n      <td>8</td>\n      <td>93</td>\n    </tr>\n    <tr>\n      <td>9</td>\n      <td>PULAU PINANG</td>\n      <td>2009</td>\n      <td>52</td>\n      <td>179</td>\n      <td>28</td>\n      <td>1030</td>\n      <td>6</td>\n      <td>307</td>\n      <td>559</td>\n      <td>3485</td>\n      <td>786</td>\n      <td>6185</td>\n      <td>248</td>\n      <td>1189</td>\n      <td>2765</td>\n    </tr>\n    <tr>\n      <td>10</td>\n      <td>SABAH</td>\n      <td>2009</td>\n      <td>69</td>\n      <td>258</td>\n      <td>0</td>\n      <td>407</td>\n      <td>0</td>\n      <td>128</td>\n      <td>480</td>\n      <td>2939</td>\n      <td>277</td>\n      <td>663</td>\n      <td>280</td>\n      <td>336</td>\n      <td>2249</td>\n    </tr>\n    <tr>\n      <td>11</td>\n      <td>SARAWAK</td>\n      <td>2009</td>\n      <td>50</td>\n      <td>207</td>\n      <td>11</td>\n      <td>572</td>\n      <td>1</td>\n      <td>149</td>\n      <td>604</td>\n      <td>2918</td>\n      <td>686</td>\n      <td>3036</td>\n      <td>637</td>\n      <td>485</td>\n      <td>3200</td>\n    </tr>\n    <tr>\n      <td>12</td>\n      <td>SELANGOR</td>\n      <td>2009</td>\n      <td>139</td>\n      <td>684</td>\n      <td>359</td>\n      <td>7127</td>\n      <td>51</td>\n      <td>979</td>\n      <td>1999</td>\n      <td>8750</td>\n      <td>4624</td>\n      <td>15528</td>\n      <td>2177</td>\n      <td>2064</td>\n      <td>10513</td>\n    </tr>\n    <tr>\n      <td>13</td>\n      <td>TRNGGANU</td>\n      <td>2009</td>\n      <td>6</td>\n      <td>173</td>\n      <td>4</td>\n      <td>86</td>\n      <td>2</td>\n      <td>43</td>\n      <td>141</td>\n      <td>895</td>\n      <td>212</td>\n      <td>2488</td>\n      <td>38</td>\n      <td>128</td>\n      <td>1153</td>\n    </tr>\n    <tr>\n      <td>14</td>\n      <td>Jumlah</td>\n      <td>2009</td>\n      <td>601</td>\n      <td>3840</td>\n      <td>815</td>\n      <td>23722</td>\n      <td>155</td>\n      <td>4862</td>\n      <td>8370</td>\n      <td>40864</td>\n      <td>14222</td>\n      <td>61394</td>\n      <td>5524</td>\n      <td>9739</td>\n      <td>38570</td>\n    </tr>\n  </tbody>\n</table>\n</div>",
      "text/plain": "              NEGERI  TAHUN  BUNUH  ROGOL  SAMUN BERKAWAN BERS/API  \\\n0             JOHOR    2009     74    656                       87   \n1             KEDAH    2009     33    378                       46   \n2          KELANTAN    2009      8    314                       16   \n3      KUALA LUMPUR    2009     64    153                      127   \n4            MELAKA    2009     12    105                        1   \n5   NEGERI SEMBILAN    2009     14    209                       62   \n6            PAHANG    2009     24    226                       26   \n7             PERAK    2009     54    254                       35   \n8            PERLIS    2009      2     44                       13   \n9      PULAU PINANG    2009     52    179                       28   \n10            SABAH    2009     69    258                        0   \n11          SARAWAK    2009     50    207                       11   \n12         SELANGOR    2009    139    684                      359   \n13         TRNGGANU    2009      6    173                        4   \n14            Jumlah   2009    601   3840                      815   \n\n    SAMUN BERKAWAN TANPA BERS/API  SAMUN BERSENJATAPI  SAMUN TANPA S/API  \\\n0                            5028                  11               1374   \n1                             534                   8                321   \n2                             122                   9                 52   \n3                            6156                  35                942   \n4                             240                   1                 89   \n5                             909                  19                194   \n6                             246                   3                 61   \n7                            1257                   6                218   \n8                               8                   3                  5   \n9                            1030                   6                307   \n10                            407                   0                128   \n11                            572                   1                149   \n12                           7127                  51                979   \n13                             86                   2                 43   \n14                          23722                 155               4862   \n\n    MENCEDERAKAN   CURI  CURI MOTOKAR  CURI MOTOSIKAL  CURI VAN/LORI/J'BERAT  \\\n0           1144   4211          1755            8825                    612   \n1            539   2422           526            4958                    122   \n2            421    868           775            2841                     69   \n3            772   7510          3138            6286                    726   \n4            294   1523           226            1520                     59   \n5            351   1362           266            1871                     99   \n6            334   1707           234            2167                    143   \n7            654   2145           689            4628                    306   \n8             78    129            28             398                      8   \n9            559   3485           786            6185                    248   \n10           480   2939           277             663                    280   \n11           604   2918           686            3036                    637   \n12          1999   8750          4624           15528                   2177   \n13           141    895           212            2488                     38   \n14          8370  40864         14222           61394                   5524   \n\n    CURI RAGUT  PECAH RUMAH DAN CURI  \n0           99                  3391  \n1          540                  2502  \n2          391                  1515  \n3         3341                  4531  \n4          232                  1321  \n5          273                  1918  \n6          174                  1376  \n7          479                  2043  \n8            8                    93  \n9         1189                  2765  \n10         336                  2249  \n11         485                  3200  \n12        2064                 10513  \n13         128                  1153  \n14        9739                 38570  "
     },
     "execution_count": 17,
     "metadata": {},
     "output_type": "execute_result"
    }
   ],
   "source": [
    "crime_cases[0:15]"
   ]
  },
  {
   "cell_type": "code",
   "execution_count": 34,
   "metadata": {},
   "outputs": [],
   "source": [
    "#Rename to english\n",
    "crime_cases.rename(\n",
    "    columns={\n",
    "        \"NEGERI\": \"State\",\n",
    "        \"TAHUN\" : \"Year\",\n",
    "        \"BUNUH\": \"Murder\",\n",
    "        \"ROGOL\": \"Rape\",\n",
    "        \"SAMUN BERKAWAN BERS/API\": \"Group Armed Robbery\",\n",
    "        \"SAMUN BERKAWAN TANPA BERS/API\" : \"Group Robbery\",\n",
    "        \"SAMUN BERSENJATAPI\" : \"Armed Robbery\",\n",
    "        \"SAMUN TANPA S/API\" : \"Robbery\",\n",
    "        \"MENCEDERAKAN\" : \"Injure\",\n",
    "        \"CURI\" : \"Theft\",\n",
    "        \"CURI MOTOKAR\" : \"Car Theft\",\n",
    "        \"CURI MOTOSIKAL\" : \"Motorcylce Theft\",\n",
    "        \"CURI VAN/LORI/J'BERAT\" : \"Van/Lorry/Heavy Vehicle Theft\",\n",
    "        \"CURI RAGUT\" : \"Snatch Theft\",\n",
    "        \"PECAH RUMAH DAN CURI\" : \"House Burglary\",\n",
    "    },\n",
    "    inplace=True\n",
    ")"
   ]
  },
  {
   "cell_type": "code",
   "execution_count": 35,
   "metadata": {},
   "outputs": [
    {
     "data": {
      "text/html": "<div>\n<style scoped>\n    .dataframe tbody tr th:only-of-type {\n        vertical-align: middle;\n    }\n\n    .dataframe tbody tr th {\n        vertical-align: top;\n    }\n\n    .dataframe thead th {\n        text-align: right;\n    }\n</style>\n<table border=\"1\" class=\"dataframe\">\n  <thead>\n    <tr style=\"text-align: right;\">\n      <th></th>\n      <th>Year</th>\n      <th>State</th>\n      <th>Murder</th>\n      <th>Rape</th>\n      <th>Armed Group Robbery</th>\n      <th>Group Robbery</th>\n      <th>Armed Robbery</th>\n      <th>Robbery</th>\n      <th>Injure</th>\n      <th>Theft</th>\n      <th>Car Theft</th>\n      <th>Motorcylce Theft</th>\n      <th>Van/Lorry/Heavy Vehicle Theft</th>\n      <th>Snatch Theft</th>\n      <th>House Burglary</th>\n    </tr>\n  </thead>\n  <tbody>\n    <tr>\n      <td>0</td>\n      <td>2010</td>\n      <td>JOHOR</td>\n      <td>58</td>\n      <td>619</td>\n      <td>142</td>\n      <td>2713</td>\n      <td>23</td>\n      <td>648</td>\n      <td>1026</td>\n      <td>4356</td>\n      <td>1667</td>\n      <td>7812</td>\n      <td>538</td>\n      <td>84</td>\n      <td>2741</td>\n    </tr>\n    <tr>\n      <td>1</td>\n      <td>2010</td>\n      <td>KEDAH</td>\n      <td>24</td>\n      <td>352</td>\n      <td>103</td>\n      <td>486</td>\n      <td>20</td>\n      <td>237</td>\n      <td>492</td>\n      <td>2225</td>\n      <td>530</td>\n      <td>4698</td>\n      <td>109</td>\n      <td>411</td>\n      <td>2035</td>\n    </tr>\n    <tr>\n      <td>2</td>\n      <td>2010</td>\n      <td>KELANTAN</td>\n      <td>21</td>\n      <td>311</td>\n      <td>38</td>\n      <td>74</td>\n      <td>13</td>\n      <td>59</td>\n      <td>386</td>\n      <td>909</td>\n      <td>777</td>\n      <td>2776</td>\n      <td>125</td>\n      <td>295</td>\n      <td>1426</td>\n    </tr>\n    <tr>\n      <td>3</td>\n      <td>2010</td>\n      <td>KUALA LUMPUR</td>\n      <td>61</td>\n      <td>161</td>\n      <td>100</td>\n      <td>3931</td>\n      <td>21</td>\n      <td>933</td>\n      <td>969</td>\n      <td>6186</td>\n      <td>3482</td>\n      <td>5319</td>\n      <td>753</td>\n      <td>1897</td>\n      <td>4682</td>\n    </tr>\n    <tr>\n      <td>4</td>\n      <td>2010</td>\n      <td>MELAKA</td>\n      <td>9</td>\n      <td>105</td>\n      <td>7</td>\n      <td>266</td>\n      <td>1</td>\n      <td>71</td>\n      <td>263</td>\n      <td>1256</td>\n      <td>253</td>\n      <td>1875</td>\n      <td>68</td>\n      <td>122</td>\n      <td>1073</td>\n    </tr>\n    <tr>\n      <td>5</td>\n      <td>2010</td>\n      <td>NEGERI SEMBILAN</td>\n      <td>22</td>\n      <td>196</td>\n      <td>157</td>\n      <td>837</td>\n      <td>21</td>\n      <td>184</td>\n      <td>276</td>\n      <td>1164</td>\n      <td>308</td>\n      <td>1960</td>\n      <td>152</td>\n      <td>55</td>\n      <td>1484</td>\n    </tr>\n    <tr>\n      <td>6</td>\n      <td>2010</td>\n      <td>PAHANG</td>\n      <td>14</td>\n      <td>223</td>\n      <td>96</td>\n      <td>163</td>\n      <td>18</td>\n      <td>43</td>\n      <td>304</td>\n      <td>1314</td>\n      <td>247</td>\n      <td>2196</td>\n      <td>123</td>\n      <td>101</td>\n      <td>1352</td>\n    </tr>\n    <tr>\n      <td>7</td>\n      <td>2010</td>\n      <td>PERAK</td>\n      <td>43</td>\n      <td>293</td>\n      <td>13</td>\n      <td>1108</td>\n      <td>2</td>\n      <td>228</td>\n      <td>548</td>\n      <td>1986</td>\n      <td>660</td>\n      <td>4136</td>\n      <td>192</td>\n      <td>244</td>\n      <td>1911</td>\n    </tr>\n    <tr>\n      <td>8</td>\n      <td>2010</td>\n      <td>PERLIS</td>\n      <td>1</td>\n      <td>39</td>\n      <td>6</td>\n      <td>13</td>\n      <td>5</td>\n      <td>10</td>\n      <td>72</td>\n      <td>282</td>\n      <td>16</td>\n      <td>418</td>\n      <td>6</td>\n      <td>58</td>\n      <td>163</td>\n    </tr>\n    <tr>\n      <td>9</td>\n      <td>2010</td>\n      <td>PULAU PINANG</td>\n      <td>33</td>\n      <td>149</td>\n      <td>67</td>\n      <td>753</td>\n      <td>21</td>\n      <td>259</td>\n      <td>593</td>\n      <td>2778</td>\n      <td>464</td>\n      <td>4282</td>\n      <td>143</td>\n      <td>835</td>\n      <td>2096</td>\n    </tr>\n    <tr>\n      <td>10</td>\n      <td>2010</td>\n      <td>SABAH</td>\n      <td>63</td>\n      <td>243</td>\n      <td>1</td>\n      <td>378</td>\n      <td>0</td>\n      <td>127</td>\n      <td>402</td>\n      <td>2705</td>\n      <td>234</td>\n      <td>751</td>\n      <td>295</td>\n      <td>144</td>\n      <td>2337</td>\n    </tr>\n    <tr>\n      <td>11</td>\n      <td>2010</td>\n      <td>SARAWAK</td>\n      <td>36</td>\n      <td>197</td>\n      <td>6</td>\n      <td>458</td>\n      <td>1</td>\n      <td>90</td>\n      <td>596</td>\n      <td>2939</td>\n      <td>462</td>\n      <td>3017</td>\n      <td>554</td>\n      <td>398</td>\n      <td>3006</td>\n    </tr>\n    <tr>\n      <td>12</td>\n      <td>2010</td>\n      <td>SELANGOR</td>\n      <td>175</td>\n      <td>653</td>\n      <td>1048</td>\n      <td>4566</td>\n      <td>152</td>\n      <td>837</td>\n      <td>2057</td>\n      <td>7459</td>\n      <td>6084</td>\n      <td>13769</td>\n      <td>1680</td>\n      <td>1250</td>\n      <td>9739</td>\n    </tr>\n    <tr>\n      <td>13</td>\n      <td>2010</td>\n      <td>TRNGGANU</td>\n      <td>8</td>\n      <td>152</td>\n      <td>25</td>\n      <td>63</td>\n      <td>11</td>\n      <td>108</td>\n      <td>127</td>\n      <td>847</td>\n      <td>106</td>\n      <td>1548</td>\n      <td>36</td>\n      <td>56</td>\n      <td>1007</td>\n    </tr>\n    <tr>\n      <td>14</td>\n      <td>2010</td>\n      <td>Jumlah</td>\n      <td>568</td>\n      <td>3693</td>\n      <td>1809</td>\n      <td>15809</td>\n      <td>309</td>\n      <td>3834</td>\n      <td>8111</td>\n      <td>36406</td>\n      <td>15290</td>\n      <td>54557</td>\n      <td>4774</td>\n      <td>5950</td>\n      <td>35052</td>\n    </tr>\n  </tbody>\n</table>\n</div>",
      "text/plain": "    Year             State  Murder  Rape  Armed Group Robbery  Group Robbery  \\\n0   2010            JOHOR       58   619                  142           2713   \n1   2010            KEDAH       24   352                  103            486   \n2   2010         KELANTAN       21   311                   38             74   \n3   2010     KUALA LUMPUR       61   161                  100           3931   \n4   2010           MELAKA        9   105                    7            266   \n5   2010  NEGERI SEMBILAN       22   196                  157            837   \n6   2010           PAHANG       14   223                   96            163   \n7   2010            PERAK       43   293                   13           1108   \n8   2010           PERLIS        1    39                    6             13   \n9   2010     PULAU PINANG       33   149                   67            753   \n10  2010            SABAH       63   243                    1            378   \n11  2010          SARAWAK       36   197                    6            458   \n12  2010         SELANGOR      175   653                 1048           4566   \n13  2010         TRNGGANU        8   152                   25             63   \n14  2010            Jumlah     568  3693                 1809          15809   \n\n    Armed Robbery  Robbery  Injure  Theft  Car Theft  Motorcylce Theft  \\\n0              23      648    1026   4356       1667              7812   \n1              20      237     492   2225        530              4698   \n2              13       59     386    909        777              2776   \n3              21      933     969   6186       3482              5319   \n4               1       71     263   1256        253              1875   \n5              21      184     276   1164        308              1960   \n6              18       43     304   1314        247              2196   \n7               2      228     548   1986        660              4136   \n8               5       10      72    282         16               418   \n9              21      259     593   2778        464              4282   \n10              0      127     402   2705        234               751   \n11              1       90     596   2939        462              3017   \n12            152      837    2057   7459       6084             13769   \n13             11      108     127    847        106              1548   \n14            309     3834    8111  36406      15290             54557   \n\n    Van/Lorry/Heavy Vehicle Theft  Snatch Theft  House Burglary  \n0                             538            84            2741  \n1                             109           411            2035  \n2                             125           295            1426  \n3                             753          1897            4682  \n4                              68           122            1073  \n5                             152            55            1484  \n6                             123           101            1352  \n7                             192           244            1911  \n8                               6            58             163  \n9                             143           835            2096  \n10                            295           144            2337  \n11                            554           398            3006  \n12                           1680          1250            9739  \n13                             36            56            1007  \n14                           4774          5950           35052  "
     },
     "execution_count": 35,
     "metadata": {},
     "output_type": "execute_result"
    }
   ],
   "source": [
    "crime_cases[0:15]"
   ]
  },
  {
   "cell_type": "code",
   "execution_count": 24,
   "metadata": {},
   "outputs": [],
   "source": [
    "#Drop 2009\n",
    "crime_cases_A = crime_cases.set_index('Year')\n",
    "crime_cases_A = crime_cases_A.drop('2009').reset_index()\n"
   ]
  },
  {
   "cell_type": "code",
   "execution_count": 36,
   "metadata": {},
   "outputs": [
    {
     "data": {
      "text/html": "<div>\n<style scoped>\n    .dataframe tbody tr th:only-of-type {\n        vertical-align: middle;\n    }\n\n    .dataframe tbody tr th {\n        vertical-align: top;\n    }\n\n    .dataframe thead th {\n        text-align: right;\n    }\n</style>\n<table border=\"1\" class=\"dataframe\">\n  <thead>\n    <tr style=\"text-align: right;\">\n      <th></th>\n      <th>Year</th>\n      <th>State</th>\n      <th>Murder</th>\n      <th>Rape</th>\n      <th>Armed Group Robbery</th>\n      <th>Group Robbery</th>\n      <th>Armed Robbery</th>\n      <th>Robbery</th>\n      <th>Injure</th>\n      <th>Theft</th>\n      <th>Car Theft</th>\n      <th>Motorcylce Theft</th>\n      <th>Van/Lorry/Heavy Vehicle Theft</th>\n      <th>Snatch Theft</th>\n      <th>House Burglary</th>\n    </tr>\n  </thead>\n  <tbody>\n    <tr>\n      <td>0</td>\n      <td>2010</td>\n      <td>JOHOR</td>\n      <td>58</td>\n      <td>619</td>\n      <td>142</td>\n      <td>2713</td>\n      <td>23</td>\n      <td>648</td>\n      <td>1026</td>\n      <td>4356</td>\n      <td>1667</td>\n      <td>7812</td>\n      <td>538</td>\n      <td>84</td>\n      <td>2741</td>\n    </tr>\n    <tr>\n      <td>1</td>\n      <td>2010</td>\n      <td>KEDAH</td>\n      <td>24</td>\n      <td>352</td>\n      <td>103</td>\n      <td>486</td>\n      <td>20</td>\n      <td>237</td>\n      <td>492</td>\n      <td>2225</td>\n      <td>530</td>\n      <td>4698</td>\n      <td>109</td>\n      <td>411</td>\n      <td>2035</td>\n    </tr>\n    <tr>\n      <td>2</td>\n      <td>2010</td>\n      <td>KELANTAN</td>\n      <td>21</td>\n      <td>311</td>\n      <td>38</td>\n      <td>74</td>\n      <td>13</td>\n      <td>59</td>\n      <td>386</td>\n      <td>909</td>\n      <td>777</td>\n      <td>2776</td>\n      <td>125</td>\n      <td>295</td>\n      <td>1426</td>\n    </tr>\n    <tr>\n      <td>3</td>\n      <td>2010</td>\n      <td>KUALA LUMPUR</td>\n      <td>61</td>\n      <td>161</td>\n      <td>100</td>\n      <td>3931</td>\n      <td>21</td>\n      <td>933</td>\n      <td>969</td>\n      <td>6186</td>\n      <td>3482</td>\n      <td>5319</td>\n      <td>753</td>\n      <td>1897</td>\n      <td>4682</td>\n    </tr>\n    <tr>\n      <td>4</td>\n      <td>2010</td>\n      <td>MELAKA</td>\n      <td>9</td>\n      <td>105</td>\n      <td>7</td>\n      <td>266</td>\n      <td>1</td>\n      <td>71</td>\n      <td>263</td>\n      <td>1256</td>\n      <td>253</td>\n      <td>1875</td>\n      <td>68</td>\n      <td>122</td>\n      <td>1073</td>\n    </tr>\n    <tr>\n      <td>5</td>\n      <td>2010</td>\n      <td>NEGERI SEMBILAN</td>\n      <td>22</td>\n      <td>196</td>\n      <td>157</td>\n      <td>837</td>\n      <td>21</td>\n      <td>184</td>\n      <td>276</td>\n      <td>1164</td>\n      <td>308</td>\n      <td>1960</td>\n      <td>152</td>\n      <td>55</td>\n      <td>1484</td>\n    </tr>\n    <tr>\n      <td>6</td>\n      <td>2010</td>\n      <td>PAHANG</td>\n      <td>14</td>\n      <td>223</td>\n      <td>96</td>\n      <td>163</td>\n      <td>18</td>\n      <td>43</td>\n      <td>304</td>\n      <td>1314</td>\n      <td>247</td>\n      <td>2196</td>\n      <td>123</td>\n      <td>101</td>\n      <td>1352</td>\n    </tr>\n    <tr>\n      <td>7</td>\n      <td>2010</td>\n      <td>PERAK</td>\n      <td>43</td>\n      <td>293</td>\n      <td>13</td>\n      <td>1108</td>\n      <td>2</td>\n      <td>228</td>\n      <td>548</td>\n      <td>1986</td>\n      <td>660</td>\n      <td>4136</td>\n      <td>192</td>\n      <td>244</td>\n      <td>1911</td>\n    </tr>\n    <tr>\n      <td>8</td>\n      <td>2010</td>\n      <td>PERLIS</td>\n      <td>1</td>\n      <td>39</td>\n      <td>6</td>\n      <td>13</td>\n      <td>5</td>\n      <td>10</td>\n      <td>72</td>\n      <td>282</td>\n      <td>16</td>\n      <td>418</td>\n      <td>6</td>\n      <td>58</td>\n      <td>163</td>\n    </tr>\n    <tr>\n      <td>9</td>\n      <td>2010</td>\n      <td>PULAU PINANG</td>\n      <td>33</td>\n      <td>149</td>\n      <td>67</td>\n      <td>753</td>\n      <td>21</td>\n      <td>259</td>\n      <td>593</td>\n      <td>2778</td>\n      <td>464</td>\n      <td>4282</td>\n      <td>143</td>\n      <td>835</td>\n      <td>2096</td>\n    </tr>\n    <tr>\n      <td>10</td>\n      <td>2010</td>\n      <td>SABAH</td>\n      <td>63</td>\n      <td>243</td>\n      <td>1</td>\n      <td>378</td>\n      <td>0</td>\n      <td>127</td>\n      <td>402</td>\n      <td>2705</td>\n      <td>234</td>\n      <td>751</td>\n      <td>295</td>\n      <td>144</td>\n      <td>2337</td>\n    </tr>\n    <tr>\n      <td>11</td>\n      <td>2010</td>\n      <td>SARAWAK</td>\n      <td>36</td>\n      <td>197</td>\n      <td>6</td>\n      <td>458</td>\n      <td>1</td>\n      <td>90</td>\n      <td>596</td>\n      <td>2939</td>\n      <td>462</td>\n      <td>3017</td>\n      <td>554</td>\n      <td>398</td>\n      <td>3006</td>\n    </tr>\n    <tr>\n      <td>12</td>\n      <td>2010</td>\n      <td>SELANGOR</td>\n      <td>175</td>\n      <td>653</td>\n      <td>1048</td>\n      <td>4566</td>\n      <td>152</td>\n      <td>837</td>\n      <td>2057</td>\n      <td>7459</td>\n      <td>6084</td>\n      <td>13769</td>\n      <td>1680</td>\n      <td>1250</td>\n      <td>9739</td>\n    </tr>\n    <tr>\n      <td>13</td>\n      <td>2010</td>\n      <td>TRNGGANU</td>\n      <td>8</td>\n      <td>152</td>\n      <td>25</td>\n      <td>63</td>\n      <td>11</td>\n      <td>108</td>\n      <td>127</td>\n      <td>847</td>\n      <td>106</td>\n      <td>1548</td>\n      <td>36</td>\n      <td>56</td>\n      <td>1007</td>\n    </tr>\n    <tr>\n      <td>14</td>\n      <td>2010</td>\n      <td>Jumlah</td>\n      <td>568</td>\n      <td>3693</td>\n      <td>1809</td>\n      <td>15809</td>\n      <td>309</td>\n      <td>3834</td>\n      <td>8111</td>\n      <td>36406</td>\n      <td>15290</td>\n      <td>54557</td>\n      <td>4774</td>\n      <td>5950</td>\n      <td>35052</td>\n    </tr>\n  </tbody>\n</table>\n</div>",
      "text/plain": "    Year             State  Murder  Rape  Armed Group Robbery  Group Robbery  \\\n0   2010            JOHOR       58   619                  142           2713   \n1   2010            KEDAH       24   352                  103            486   \n2   2010         KELANTAN       21   311                   38             74   \n3   2010     KUALA LUMPUR       61   161                  100           3931   \n4   2010           MELAKA        9   105                    7            266   \n5   2010  NEGERI SEMBILAN       22   196                  157            837   \n6   2010           PAHANG       14   223                   96            163   \n7   2010            PERAK       43   293                   13           1108   \n8   2010           PERLIS        1    39                    6             13   \n9   2010     PULAU PINANG       33   149                   67            753   \n10  2010            SABAH       63   243                    1            378   \n11  2010          SARAWAK       36   197                    6            458   \n12  2010         SELANGOR      175   653                 1048           4566   \n13  2010         TRNGGANU        8   152                   25             63   \n14  2010            Jumlah     568  3693                 1809          15809   \n\n    Armed Robbery  Robbery  Injure  Theft  Car Theft  Motorcylce Theft  \\\n0              23      648    1026   4356       1667              7812   \n1              20      237     492   2225        530              4698   \n2              13       59     386    909        777              2776   \n3              21      933     969   6186       3482              5319   \n4               1       71     263   1256        253              1875   \n5              21      184     276   1164        308              1960   \n6              18       43     304   1314        247              2196   \n7               2      228     548   1986        660              4136   \n8               5       10      72    282         16               418   \n9              21      259     593   2778        464              4282   \n10              0      127     402   2705        234               751   \n11              1       90     596   2939        462              3017   \n12            152      837    2057   7459       6084             13769   \n13             11      108     127    847        106              1548   \n14            309     3834    8111  36406      15290             54557   \n\n    Van/Lorry/Heavy Vehicle Theft  Snatch Theft  House Burglary  \n0                             538            84            2741  \n1                             109           411            2035  \n2                             125           295            1426  \n3                             753          1897            4682  \n4                              68           122            1073  \n5                             152            55            1484  \n6                             123           101            1352  \n7                             192           244            1911  \n8                               6            58             163  \n9                             143           835            2096  \n10                            295           144            2337  \n11                            554           398            3006  \n12                           1680          1250            9739  \n13                             36            56            1007  \n14                           4774          5950           35052  "
     },
     "execution_count": 36,
     "metadata": {},
     "output_type": "execute_result"
    }
   ],
   "source": [
    "crime_cases = crime_cases_A\n",
    "crime_cases[0:15]"
   ]
  },
  {
   "cell_type": "code",
   "execution_count": 40,
   "metadata": {},
   "outputs": [],
   "source": [
    "# Drop Jumlah\n",
    "crime_cases_B = crime_cases.set_index('State')\n",
    "crime_cases_C = crime_cases_B.drop('Jumlah').reset_index()\n",
    "crime_cases = crime_cases_C"
   ]
  },
  {
   "cell_type": "code",
   "execution_count": 58,
   "metadata": {},
   "outputs": [],
   "source": [
    "crime_cases[0:14]\n",
    "crime_cases.to_csv('crime_cases.csv', encoding='utf-8', index=False)"
   ]
  },
  {
   "cell_type": "code",
   "execution_count": 57,
   "metadata": {},
   "outputs": [],
   "source": [
    "drug_addicts.rename(columns={\"Tahun\": \"Year\"}, inplace=True)\n",
    "drug_addicts.drop(['JUMLAH'], axis=1)\n",
    "drug_addicts.to_csv('drug_addicts.csv', encoding='utf-8', index=False)"
   ]
  },
  {
   "cell_type": "code",
   "execution_count": 2,
   "metadata": {},
   "outputs": [],
   "source": [
    "drug_addicts = pd.read_csv('drug_addicts.csv')"
   ]
  },
  {
   "cell_type": "code",
   "execution_count": 3,
   "metadata": {},
   "outputs": [
    {
     "data": {
      "text/html": "<div>\n<style scoped>\n    .dataframe tbody tr th:only-of-type {\n        vertical-align: middle;\n    }\n\n    .dataframe tbody tr th {\n        vertical-align: top;\n    }\n\n    .dataframe thead th {\n        text-align: right;\n    }\n</style>\n<table border=\"1\" class=\"dataframe\">\n  <thead>\n    <tr style=\"text-align: right;\">\n      <th></th>\n      <th>Year</th>\n      <th>Pulau Pinang</th>\n      <th>Selangor</th>\n      <th>Kedah</th>\n      <th>Terengganu</th>\n      <th>Kelantan</th>\n      <th>Perak</th>\n      <th>Johor</th>\n      <th>WPKL</th>\n      <th>Pahang</th>\n      <th>Negeri Sembilan</th>\n      <th>Sabah</th>\n      <th>Perlis</th>\n      <th>Melaka</th>\n      <th>Sarawak</th>\n      <th>WP Putrajaya</th>\n      <th>WP Labuan</th>\n      <th>JUMLAH</th>\n    </tr>\n  </thead>\n  <tbody>\n    <tr>\n      <td>0</td>\n      <td>2010</td>\n      <td>3,753</td>\n      <td>3,548</td>\n      <td>2,507</td>\n      <td>2,377</td>\n      <td>2,360</td>\n      <td>2,296</td>\n      <td>2,091</td>\n      <td>1,344</td>\n      <td>1,198</td>\n      <td>921</td>\n      <td>517</td>\n      <td>354</td>\n      <td>176</td>\n      <td>145</td>\n      <td>45</td>\n      <td>10</td>\n      <td>23,642</td>\n    </tr>\n    <tr>\n      <td>1</td>\n      <td>2011</td>\n      <td>2,747</td>\n      <td>2,026</td>\n      <td>1,859</td>\n      <td>2,443</td>\n      <td>1,475</td>\n      <td>2,215</td>\n      <td>1,918</td>\n      <td>1,013</td>\n      <td>1,363</td>\n      <td>840</td>\n      <td>440</td>\n      <td>293</td>\n      <td>538</td>\n      <td>333</td>\n      <td>25</td>\n      <td>3</td>\n      <td>19,531</td>\n    </tr>\n    <tr>\n      <td>2</td>\n      <td>2012</td>\n      <td>2,286</td>\n      <td>1,690</td>\n      <td>1,535</td>\n      <td>599</td>\n      <td>942</td>\n      <td>1,549</td>\n      <td>1,729</td>\n      <td>1,098</td>\n      <td>1,423</td>\n      <td>816</td>\n      <td>262</td>\n      <td>337</td>\n      <td>496</td>\n      <td>312</td>\n      <td>26</td>\n      <td>1</td>\n      <td>15,101</td>\n    </tr>\n    <tr>\n      <td>3</td>\n      <td>2013</td>\n      <td>3,043</td>\n      <td>2,226</td>\n      <td>2,702</td>\n      <td>641</td>\n      <td>895</td>\n      <td>2,789</td>\n      <td>1,874</td>\n      <td>1,841</td>\n      <td>1,621</td>\n      <td>1,008</td>\n      <td>513</td>\n      <td>374</td>\n      <td>675</td>\n      <td>650</td>\n      <td>20</td>\n      <td>15</td>\n      <td>20,887</td>\n    </tr>\n    <tr>\n      <td>4</td>\n      <td>2014</td>\n      <td>2,780</td>\n      <td>2,051</td>\n      <td>2,535</td>\n      <td>579</td>\n      <td>1,399</td>\n      <td>2,716</td>\n      <td>1,992</td>\n      <td>1,698</td>\n      <td>1,903</td>\n      <td>951</td>\n      <td>940</td>\n      <td>499</td>\n      <td>845</td>\n      <td>854</td>\n      <td>16</td>\n      <td>19</td>\n      <td>21,777</td>\n    </tr>\n  </tbody>\n</table>\n</div>",
      "text/plain": "   Year Pulau Pinang Selangor  Kedah Terengganu Kelantan  Perak  Johor   WPKL  \\\n0  2010        3,753    3,548  2,507      2,377    2,360  2,296  2,091  1,344   \n1  2011        2,747    2,026  1,859      2,443    1,475  2,215  1,918  1,013   \n2  2012        2,286    1,690  1,535        599      942  1,549  1,729  1,098   \n3  2013        3,043    2,226  2,702        641      895  2,789  1,874  1,841   \n4  2014        2,780    2,051  2,535        579    1,399  2,716  1,992  1,698   \n\n  Pahang Negeri Sembilan Sabah  Perlis  Melaka  Sarawak  WP Putrajaya  \\\n0  1,198             921   517     354     176      145            45   \n1  1,363             840   440     293     538      333            25   \n2  1,423             816   262     337     496      312            26   \n3  1,621           1,008   513     374     675      650            20   \n4  1,903             951   940     499     845      854            16   \n\n   WP Labuan  JUMLAH  \n0         10  23,642  \n1          3  19,531  \n2          1  15,101  \n3         15  20,887  \n4         19  21,777  "
     },
     "execution_count": 3,
     "metadata": {},
     "output_type": "execute_result"
    }
   ],
   "source": [
    "drug_addicts.head()"
   ]
  },
  {
   "cell_type": "code",
   "execution_count": 9,
   "metadata": {},
   "outputs": [
    {
     "data": {
      "text/html": "<div>\n<style scoped>\n    .dataframe tbody tr th:only-of-type {\n        vertical-align: middle;\n    }\n\n    .dataframe tbody tr th {\n        vertical-align: top;\n    }\n\n    .dataframe thead th {\n        text-align: right;\n    }\n</style>\n<table border=\"1\" class=\"dataframe\">\n  <thead>\n    <tr style=\"text-align: right;\">\n      <th></th>\n      <th>0</th>\n      <th>1</th>\n      <th>2</th>\n      <th>3</th>\n      <th>4</th>\n      <th>5</th>\n      <th>6</th>\n    </tr>\n  </thead>\n  <tbody>\n    <tr>\n      <td>Johor</td>\n      <td>2,091</td>\n      <td>1,918</td>\n      <td>1,729</td>\n      <td>1,874</td>\n      <td>1,992</td>\n      <td>2,541</td>\n      <td>2,565</td>\n    </tr>\n    <tr>\n      <td>Kedah</td>\n      <td>2,507</td>\n      <td>1,859</td>\n      <td>1,535</td>\n      <td>2,702</td>\n      <td>2,535</td>\n      <td>2,945</td>\n      <td>3,862</td>\n    </tr>\n    <tr>\n      <td>Kelantan</td>\n      <td>2,360</td>\n      <td>1,475</td>\n      <td>942</td>\n      <td>895</td>\n      <td>1,399</td>\n      <td>1,994</td>\n      <td>3,233</td>\n    </tr>\n    <tr>\n      <td>WPKL</td>\n      <td>1,344</td>\n      <td>1,013</td>\n      <td>1,098</td>\n      <td>1,841</td>\n      <td>1,698</td>\n      <td>1,328</td>\n      <td>1,695</td>\n    </tr>\n    <tr>\n      <td>Melaka</td>\n      <td>176</td>\n      <td>538</td>\n      <td>496</td>\n      <td>675</td>\n      <td>845</td>\n      <td>944</td>\n      <td>930</td>\n    </tr>\n  </tbody>\n</table>\n</div>",
      "text/plain": "              0      1      2      3      4      5      6\nJohor     2,091  1,918  1,729  1,874  1,992  2,541  2,565\nKedah     2,507  1,859  1,535  2,702  2,535  2,945  3,862\nKelantan  2,360  1,475    942    895  1,399  1,994  3,233\nWPKL      1,344  1,013  1,098  1,841  1,698  1,328  1,695\nMelaka      176    538    496    675    845    944    930"
     },
     "execution_count": 9,
     "metadata": {},
     "output_type": "execute_result"
    }
   ],
   "source": [
    "da = drug_addicts.transpose()\n",
    "da = da.reindex([\"Johor\",\"Kedah\", \"Kelantan\", \"WPKL\", \"Melaka\", \"Negeri Sembilan\", \"Pahang\", \"Perak\", \"Perlis\", \"Pulau Pinang\", \"Sarawak\", \"Sabah\", \"Selangor\", \"Terengganu\"])\n",
    "da.head()"
   ]
  },
  {
   "cell_type": "code",
   "execution_count": 11,
   "metadata": {},
   "outputs": [],
   "source": [
    "da.to_csv('da.csv', encoding='utf-8')"
   ]
  },
  {
   "cell_type": "code",
   "execution_count": 31,
   "metadata": {},
   "outputs": [
    {
     "data": {
      "text/html": "<div>\n<style scoped>\n    .dataframe tbody tr th:only-of-type {\n        vertical-align: middle;\n    }\n\n    .dataframe tbody tr th {\n        vertical-align: top;\n    }\n\n    .dataframe thead th {\n        text-align: right;\n    }\n</style>\n<table border=\"1\" class=\"dataframe\">\n  <thead>\n    <tr style=\"text-align: right;\">\n      <th></th>\n      <th>Tahun</th>\n      <th>Johor</th>\n      <th>Kedah</th>\n      <th>Kelantan</th>\n      <th>Melaka</th>\n      <th>Negeri Sembilan</th>\n      <th>Pahang</th>\n      <th>Pulau Pinang</th>\n      <th>Perak</th>\n      <th>Perlis</th>\n      <th>Selangor</th>\n      <th>Terengganu</th>\n      <th>Sabah</th>\n      <th>Sarawak</th>\n      <th>WP Kuala Lumpur</th>\n      <th>WP Labuan</th>\n      <th>Malaysia</th>\n    </tr>\n  </thead>\n  <tbody>\n    <tr>\n      <td>5</td>\n      <td>2010</td>\n      <td>22035</td>\n      <td>14034</td>\n      <td>9806</td>\n      <td>29366</td>\n      <td>29363</td>\n      <td>23883</td>\n      <td>33597</td>\n      <td>18207</td>\n      <td>17410</td>\n      <td>32300</td>\n      <td>21573</td>\n      <td>17831</td>\n      <td>35034</td>\n      <td>64693</td>\n      <td>38445</td>\n      <td>28733</td>\n    </tr>\n    <tr>\n      <td>6</td>\n      <td>2011</td>\n      <td>24350</td>\n      <td>15563</td>\n      <td>10894</td>\n      <td>32421</td>\n      <td>32136</td>\n      <td>27069</td>\n      <td>35527</td>\n      <td>20370</td>\n      <td>18299</td>\n      <td>34478</td>\n      <td>23282</td>\n      <td>19648</td>\n      <td>40632</td>\n      <td>70675</td>\n      <td>44044</td>\n      <td>31372</td>\n    </tr>\n    <tr>\n      <td>7</td>\n      <td>2012</td>\n      <td>25442</td>\n      <td>16088</td>\n      <td>11217</td>\n      <td>34965</td>\n      <td>33761</td>\n      <td>27413</td>\n      <td>37053</td>\n      <td>21711</td>\n      <td>19537</td>\n      <td>36799</td>\n      <td>23935</td>\n      <td>19487</td>\n      <td>41493</td>\n      <td>77073</td>\n      <td>49157</td>\n      <td>32913</td>\n    </tr>\n    <tr>\n      <td>8</td>\n      <td>2013</td>\n      <td>26308</td>\n      <td>16616</td>\n      <td>11284</td>\n      <td>35699</td>\n      <td>34118</td>\n      <td>27856</td>\n      <td>38490</td>\n      <td>22445</td>\n      <td>20196</td>\n      <td>38071</td>\n      <td>24449</td>\n      <td>18680</td>\n      <td>41766</td>\n      <td>82208</td>\n      <td>53576</td>\n      <td>33714</td>\n    </tr>\n    <tr>\n      <td>9</td>\n      <td>2014e</td>\n      <td>28089</td>\n      <td>17329</td>\n      <td>11748</td>\n      <td>38656</td>\n      <td>35865</td>\n      <td>29341</td>\n      <td>42130</td>\n      <td>24132</td>\n      <td>20999</td>\n      <td>40536</td>\n      <td>26397</td>\n      <td>19723</td>\n      <td>44596</td>\n      <td>90464</td>\n      <td>55566</td>\n      <td>36031</td>\n    </tr>\n    <tr>\n      <td>10</td>\n      <td>2015p</td>\n      <td>29539</td>\n      <td>18249</td>\n      <td>12075</td>\n      <td>39853</td>\n      <td>36699</td>\n      <td>30343</td>\n      <td>44847</td>\n      <td>25418</td>\n      <td>21394</td>\n      <td>42611</td>\n      <td>26529</td>\n      <td>19734</td>\n      <td>44012</td>\n      <td>94722</td>\n      <td>58577</td>\n      <td>37104</td>\n    </tr>\n  </tbody>\n</table>\n</div>",
      "text/plain": "    Tahun  Johor  Kedah  Kelantan  Melaka  Negeri Sembilan  Pahang  \\\n5    2010  22035  14034      9806   29366            29363   23883   \n6    2011  24350  15563     10894   32421            32136   27069   \n7    2012  25442  16088     11217   34965            33761   27413   \n8    2013  26308  16616     11284   35699            34118   27856   \n9   2014e  28089  17329     11748   38656            35865   29341   \n10  2015p  29539  18249     12075   39853            36699   30343   \n\n    Pulau Pinang  Perak  Perlis  Selangor  Terengganu  Sabah  Sarawak  \\\n5          33597  18207   17410     32300       21573  17831    35034   \n6          35527  20370   18299     34478       23282  19648    40632   \n7          37053  21711   19537     36799       23935  19487    41493   \n8          38490  22445   20196     38071       24449  18680    41766   \n9          42130  24132   20999     40536       26397  19723    44596   \n10         44847  25418   21394     42611       26529  19734    44012   \n\n    WP Kuala Lumpur  WP Labuan  Malaysia  \n5             64693      38445     28733  \n6             70675      44044     31372  \n7             77073      49157     32913  \n8             82208      53576     33714  \n9             90464      55566     36031  \n10            94722      58577     37104  "
     },
     "execution_count": 31,
     "metadata": {},
     "output_type": "execute_result"
    }
   ],
   "source": [
    "GDP_A = GDP.drop([0,1,2,3,4], axis=0)\n",
    "GDP_A"
   ]
  },
  {
   "cell_type": "code",
   "execution_count": 12,
   "metadata": {},
   "outputs": [],
   "source": [
    "GDP = pd.read_csv('../data/GDP_per_capita_by_state.csv')\n",
    "unemployment = pd.read_csv('../data/Unemployment_Rate_by_state.csv')"
   ]
  },
  {
   "cell_type": "code",
   "execution_count": 28,
   "metadata": {},
   "outputs": [],
   "source": [
    "GDP_A = GDP.drop([0,1,2,3,4], axis=0)\n",
    "gd = GDP_A.transpose()\n",
    "gd = gd.reindex([\"Johor\",\"Kedah\", \"Kelantan\", \"WP Kuala Lumpur\", \"Melaka\", \"Negeri Sembilan\", \"Pahang\", \"Perak\", \"Perlis\", \"Pulau Pinang\", \"Sarawak\", \"Sabah\", \"Selangor\", \"Terengganu\"])\n",
    "gd\n",
    "gd.to_csv('gd.csv', encoding='utf-8', index=True)"
   ]
  },
  {
   "cell_type": "code",
   "execution_count": 102,
   "metadata": {},
   "outputs": [
    {
     "output_type": "execute_result",
     "data": {
      "text/plain": "                   Year   Unemployment Rate (Percentage) \nState/Country                                            \nJohor              2015                               3.1\nKedah              2015                               2.6\nKelantan           2015                               3.6\nMalaysia           2015                               3.1\nMelaka             2015                               1.0\n...                 ...                               ...\nSelangor           2010                               3.2\nTerengganu         2010                               3.7\nW.P Labuan         2010                               6.0\nW.P. Kuala Lumpur  2010                               3.1\nW.P.Putrajaya      2010                               NaN\n\n[102 rows x 2 columns]",
      "text/html": "<div>\n<style scoped>\n    .dataframe tbody tr th:only-of-type {\n        vertical-align: middle;\n    }\n\n    .dataframe tbody tr th {\n        vertical-align: top;\n    }\n\n    .dataframe thead th {\n        text-align: right;\n    }\n</style>\n<table border=\"1\" class=\"dataframe\">\n  <thead>\n    <tr style=\"text-align: right;\">\n      <th></th>\n      <th>Year</th>\n      <th>Unemployment Rate (Percentage)</th>\n    </tr>\n    <tr>\n      <th>State/Country</th>\n      <th></th>\n      <th></th>\n    </tr>\n  </thead>\n  <tbody>\n    <tr>\n      <td>Johor</td>\n      <td>2015</td>\n      <td>3.1</td>\n    </tr>\n    <tr>\n      <td>Kedah</td>\n      <td>2015</td>\n      <td>2.6</td>\n    </tr>\n    <tr>\n      <td>Kelantan</td>\n      <td>2015</td>\n      <td>3.6</td>\n    </tr>\n    <tr>\n      <td>Malaysia</td>\n      <td>2015</td>\n      <td>3.1</td>\n    </tr>\n    <tr>\n      <td>Melaka</td>\n      <td>2015</td>\n      <td>1.0</td>\n    </tr>\n    <tr>\n      <td>...</td>\n      <td>...</td>\n      <td>...</td>\n    </tr>\n    <tr>\n      <td>Selangor</td>\n      <td>2010</td>\n      <td>3.2</td>\n    </tr>\n    <tr>\n      <td>Terengganu</td>\n      <td>2010</td>\n      <td>3.7</td>\n    </tr>\n    <tr>\n      <td>W.P Labuan</td>\n      <td>2010</td>\n      <td>6.0</td>\n    </tr>\n    <tr>\n      <td>W.P. Kuala Lumpur</td>\n      <td>2010</td>\n      <td>3.1</td>\n    </tr>\n    <tr>\n      <td>W.P.Putrajaya</td>\n      <td>2010</td>\n      <td>NaN</td>\n    </tr>\n  </tbody>\n</table>\n<p>102 rows × 2 columns</p>\n</div>"
     },
     "metadata": {},
     "execution_count": 102
    }
   ],
   "source": [
    "un = pd.read_csv('../data/Unemployment_Rate_by_state.csv', index_col=0)\n",
    "un"
   ]
  },
  {
   "cell_type": "code",
   "execution_count": 103,
   "metadata": {},
   "outputs": [
    {
     "output_type": "execute_result",
     "data": {
      "text/plain": "                 Year   Unemployment Rate (Percentage) \nState/Country                                          \nJohor            2015                               3.1\nKedah            2015                               2.6\nKelantan         2015                               3.6\nMalaysia         2015                               3.1\nMelaka           2015                               1.0\nNegeri Sembilan  2015                               3.1\nPahang           2015                               2.9\nPerak            2015                               3.2\nPerlis           2015                               2.9\nPulau Pinang     2015                               1.6\nSabah            2015                               5.0\nSarawak          2015                               3.5\nSelangor         2015                               2.4\nTerengganu       2015                               4.0\nKuala Lumpur     2015                               3.3",
      "text/html": "<div>\n<style scoped>\n    .dataframe tbody tr th:only-of-type {\n        vertical-align: middle;\n    }\n\n    .dataframe tbody tr th {\n        vertical-align: top;\n    }\n\n    .dataframe thead th {\n        text-align: right;\n    }\n</style>\n<table border=\"1\" class=\"dataframe\">\n  <thead>\n    <tr style=\"text-align: right;\">\n      <th></th>\n      <th>Year</th>\n      <th>Unemployment Rate (Percentage)</th>\n    </tr>\n    <tr>\n      <th>State/Country</th>\n      <th></th>\n      <th></th>\n    </tr>\n  </thead>\n  <tbody>\n    <tr>\n      <td>Johor</td>\n      <td>2015</td>\n      <td>3.1</td>\n    </tr>\n    <tr>\n      <td>Kedah</td>\n      <td>2015</td>\n      <td>2.6</td>\n    </tr>\n    <tr>\n      <td>Kelantan</td>\n      <td>2015</td>\n      <td>3.6</td>\n    </tr>\n    <tr>\n      <td>Malaysia</td>\n      <td>2015</td>\n      <td>3.1</td>\n    </tr>\n    <tr>\n      <td>Melaka</td>\n      <td>2015</td>\n      <td>1.0</td>\n    </tr>\n    <tr>\n      <td>Negeri Sembilan</td>\n      <td>2015</td>\n      <td>3.1</td>\n    </tr>\n    <tr>\n      <td>Pahang</td>\n      <td>2015</td>\n      <td>2.9</td>\n    </tr>\n    <tr>\n      <td>Perak</td>\n      <td>2015</td>\n      <td>3.2</td>\n    </tr>\n    <tr>\n      <td>Perlis</td>\n      <td>2015</td>\n      <td>2.9</td>\n    </tr>\n    <tr>\n      <td>Pulau Pinang</td>\n      <td>2015</td>\n      <td>1.6</td>\n    </tr>\n    <tr>\n      <td>Sabah</td>\n      <td>2015</td>\n      <td>5.0</td>\n    </tr>\n    <tr>\n      <td>Sarawak</td>\n      <td>2015</td>\n      <td>3.5</td>\n    </tr>\n    <tr>\n      <td>Selangor</td>\n      <td>2015</td>\n      <td>2.4</td>\n    </tr>\n    <tr>\n      <td>Terengganu</td>\n      <td>2015</td>\n      <td>4.0</td>\n    </tr>\n    <tr>\n      <td>Kuala Lumpur</td>\n      <td>2015</td>\n      <td>3.3</td>\n    </tr>\n  </tbody>\n</table>\n</div>"
     },
     "metadata": {},
     "execution_count": 103
    }
   ],
   "source": [
    "un = un.drop([\"W.P Labuan\",'W.P.Putrajaya'], axis=0)\n",
    "un = un.rename( index= {'W.P. Kuala Lumpur': 'Kuala Lumpur'} )\n",
    "un.head(15)\n",
    "#un.to_csv('un.csv', encoding='utf-8', index=True)"
   ]
  }
 ]
}